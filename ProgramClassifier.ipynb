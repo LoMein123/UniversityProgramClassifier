{
  "cells": [
    {
      "cell_type": "code",
      "execution_count": 51,
      "metadata": {
        "id": "vPykujsrUD_e"
      },
      "outputs": [],
      "source": [
        "import torch\n",
        "from torch import nn\n",
        "from torch.utils.data import DataLoader, Dataset\n",
        "from transformers import BertTokenizer, BertModel, get_linear_schedule_with_warmup\n",
        "from sklearn.model_selection import train_test_split\n",
        "from sklearn.metrics import accuracy_score, classification_report\n",
        "from spellchecker import SpellChecker\n",
        "import pandas as pd"
      ]
    },
    {
      "cell_type": "markdown",
      "metadata": {},
      "source": [
        "# Prepare training data"
      ]
    },
    {
      "cell_type": "code",
      "execution_count": 52,
      "metadata": {},
      "outputs": [
        {
          "data": {
            "text/plain": [
              "label\n",
              "computer science                       405\n",
              "undeclared engineering                 359\n",
              "life science                           185\n",
              "business administration                175\n",
              "biomedical engineering                 131\n",
              "engineering science                    129\n",
              "nuclear engineering                    129\n",
              "commerce                               122\n",
              "management                             119\n",
              "software engineering                   116\n",
              "math                                   115\n",
              "cs/bba                                 112\n",
              "computer engineering                    99\n",
              "accounting                              93\n",
              "physics                                 93\n",
              "nanotechnology engineering              91\n",
              "arts/business                           90\n",
              "environmental science                   85\n",
              "biochemistry                            84\n",
              "physical sciences                       83\n",
              "communications                          82\n",
              "management engineering                  77\n",
              "bba/finmath                             73\n",
              "education                               72\n",
              "biomedical science                      70\n",
              "kinesiology                             69\n",
              "systems design engineering              68\n",
              "business technology managment           66\n",
              "computing and financial management      64\n",
              "psychology                              63\n",
              "health science                          62\n",
              "game design                             60\n",
              "industrial engineering                  57\n",
              "mineral engineering                     57\n",
              "mechatronics engineering                54\n",
              "civil engineering                       54\n",
              "math/bba                                49\n",
              "public administration                   48\n",
              "mechanical engineering                  47\n",
              "environmental engineering               47\n",
              "social sciences                         46\n",
              "aerospace engineering                   44\n",
              "dev degree                              44\n",
              "public affairs                          44\n",
              "planning                                40\n",
              "materials engineering                   36\n",
              "medical radiation sciences              35\n",
              "public health                           33\n",
              "chemical engineering                    32\n",
              "arts                                    31\n",
              "cs/math/stats                           29\n",
              "economics                               28\n",
              "biology                                 27\n",
              "medical science                         26\n",
              "architectural engineering               24\n",
              "humanities                              23\n",
              "nursing                                 20\n",
              "geomatics                               19\n",
              "pharmacy                                18\n",
              "accounting and financial management     16\n",
              "forestry                                16\n",
              "architecture                            15\n",
              "electrical engineering                  14\n",
              "sport management                        13\n",
              "law                                     11\n",
              "political science                        5\n",
              "political science/law                    3\n",
              "global business and digital arts         2\n",
              "oenology and viticulture                 1\n",
              "Name: count, dtype: int64"
            ]
          },
          "execution_count": 52,
          "metadata": {},
          "output_type": "execute_result"
        }
      ],
      "source": [
        "# Load the dataset\n",
        "df = pd.read_csv(\"admissionData.csv\")\n",
        "\n",
        "pd.set_option(\"display.max_rows\", None)\n",
        "df['label'].value_counts()"
      ]
    },
    {
      "cell_type": "code",
      "execution_count": 53,
      "metadata": {
        "id": "-xRnr9wgU0hj"
      },
      "outputs": [
        {
          "data": {
            "text/plain": [
              "{'accounting': 0,\n",
              " 'accounting and financial management': 1,\n",
              " 'aerospace engineering': 2,\n",
              " 'architectural engineering': 3,\n",
              " 'architecture': 4,\n",
              " 'arts': 5,\n",
              " 'arts/business': 6,\n",
              " 'bba/finmath': 7,\n",
              " 'biochemistry': 8,\n",
              " 'biology': 9,\n",
              " 'biomedical engineering': 10,\n",
              " 'biomedical science': 11,\n",
              " 'business administration': 12,\n",
              " 'business technology managment': 13,\n",
              " 'chemical engineering': 14,\n",
              " 'civil engineering': 15,\n",
              " 'commerce': 16,\n",
              " 'communications': 17,\n",
              " 'computer engineering': 18,\n",
              " 'computer science': 19,\n",
              " 'computing and financial management': 20,\n",
              " 'cs/bba': 21,\n",
              " 'cs/math/stats': 22,\n",
              " 'dev degree': 23,\n",
              " 'economics': 24,\n",
              " 'education': 25,\n",
              " 'electrical engineering': 26,\n",
              " 'engineering science': 27,\n",
              " 'environmental engineering': 28,\n",
              " 'environmental science': 29,\n",
              " 'forestry': 30,\n",
              " 'game design': 31,\n",
              " 'geomatics': 32,\n",
              " 'global business and digital arts': 33,\n",
              " 'health science': 34,\n",
              " 'humanities': 35,\n",
              " 'industrial engineering': 36,\n",
              " 'kinesiology': 37,\n",
              " 'law': 38,\n",
              " 'life science': 39,\n",
              " 'management': 40,\n",
              " 'management engineering': 41,\n",
              " 'materials engineering': 42,\n",
              " 'math': 43,\n",
              " 'math/bba': 44,\n",
              " 'mechanical engineering': 45,\n",
              " 'mechatronics engineering': 46,\n",
              " 'medical radiation sciences': 47,\n",
              " 'medical science': 48,\n",
              " 'mineral engineering': 49,\n",
              " 'nanotechnology engineering': 50,\n",
              " 'nuclear engineering': 51,\n",
              " 'nursing': 52,\n",
              " 'oenology and viticulture': 53,\n",
              " 'pharmacy': 54,\n",
              " 'physical sciences': 55,\n",
              " 'physics': 56,\n",
              " 'planning': 57,\n",
              " 'political science': 58,\n",
              " 'political science/law': 59,\n",
              " 'psychology': 60,\n",
              " 'public administration': 61,\n",
              " 'public affairs': 62,\n",
              " 'public health': 63,\n",
              " 'social sciences': 64,\n",
              " 'software engineering': 65,\n",
              " 'sport management': 66,\n",
              " 'systems design engineering': 67,\n",
              " 'undeclared engineering': 68}"
            ]
          },
          "execution_count": 53,
          "metadata": {},
          "output_type": "execute_result"
        }
      ],
      "source": [
        "# Encode programs as numbers and dictionarys to convert between them\n",
        "label2num = {label: num for num, label in enumerate(sorted(df['label'].unique()))}\n",
        "num2label = {num: label for label, num in label2num.items()}\n",
        "\n",
        "# Lists containing the programs and their labels\n",
        "programs = df['program'].tolist()\n",
        "labels = [label2num[label] for label in df['label'].tolist()]\n",
        "\n",
        "label2num"
      ]
    },
    {
      "cell_type": "code",
      "execution_count": 54,
      "metadata": {
        "id": "4VclmIZzT0ww"
      },
      "outputs": [],
      "source": [
        "# Dataset class\n",
        "class ProgramClassificationDataset(Dataset):\n",
        "    def __init__(self, programs, labels, tokenizer, max_length):\n",
        "        self.programs = programs\n",
        "        self.labels = labels\n",
        "        self.tokenizer = tokenizer\n",
        "        self.max_length = max_length\n",
        "\n",
        "    def __len__(self):\n",
        "        return len(self.programs)\n",
        "\n",
        "    def __getitem__(self, idx):\n",
        "        program = self.programs[idx]\n",
        "        label = self.labels[idx]\n",
        "        encoding = self.tokenizer(program, return_tensors='pt', max_length=self.max_length, padding='max_length', truncation=True)  # Tokenization (encoding is a step before word embeddings)\n",
        "        return {'input_ids': encoding['input_ids'].flatten(), 'attention_mask': encoding['attention_mask'].flatten(), 'label': torch.tensor(label)}"
      ]
    },
    {
      "cell_type": "markdown",
      "metadata": {},
      "source": [
        "# Create classifier architecture"
      ]
    },
    {
      "cell_type": "code",
      "execution_count": 31,
      "metadata": {
        "id": "HbcluGnkWoaY"
      },
      "outputs": [],
      "source": [
        "# Classifier architecture\n",
        "class BERTClassifier(nn.Module):\n",
        "    def __init__(self, bert_model_name, num_classes):\n",
        "        super(BERTClassifier, self).__init__()\n",
        "        self.bert = BertModel.from_pretrained(bert_model_name)          # BERT abstraction \"layer\"\n",
        "        self.dropout = nn.Dropout(0.1)                                  # 10% Dropout Layer\n",
        "        self.fc = nn.Linear(self.bert.config.hidden_size, num_classes)  # Fully Connected layer for dimension reduction of BERT outputs to num_classes\n",
        "\n",
        "    def forward(self, input_ids, attention_mask):\n",
        "        bert_outputs = self.bert(input_ids=input_ids, attention_mask=attention_mask)\n",
        "        pooled_output = bert_outputs.pooler_output  # Get hidden state (value) of the [CLS] token\n",
        "        x = self.dropout(pooled_output)\n",
        "        logits = self.fc(x)\n",
        "        return logits\n",
        "\n",
        "\n",
        "# Function that trains the model\n",
        "def train(model, data_loader, optimizer, scheduler, device):\n",
        "    model.train()   # Enable training mode\n",
        "\n",
        "    for batch in data_loader:\n",
        "        optimizer.zero_grad()   # Clear gradients\n",
        "\n",
        "        input_ids = batch['input_ids'].to(device)   \n",
        "        attention_mask = batch['attention_mask'].to(device)\n",
        "        labels = batch['label'].to(device)\n",
        "\n",
        "        outputs = model(input_ids=input_ids, attention_mask=attention_mask)\n",
        "\n",
        "        loss = nn.CrossEntropyLoss()(outputs, labels)\n",
        "        loss.backward()     # Backpropagation\n",
        "        optimizer.step()    # Update weights\n",
        "        scheduler.step()    # Update learning rate\n",
        "\n",
        "\n",
        "# Function that evaluates the model\n",
        "def evaluate(model, data_loader, device):\n",
        "    model.eval()    # Enable evaluation mode\n",
        "\n",
        "    predictions = []\n",
        "    actual_labels = []\n",
        "\n",
        "    with torch.no_grad():   # Disable gradient calculation\n",
        "        for batch in data_loader:\n",
        "            input_ids = batch['input_ids'].to(device)\n",
        "            attention_mask = batch['attention_mask'].to(device)\n",
        "            labels = batch['label'].to(device)\n",
        "\n",
        "            outputs = model(input_ids=input_ids, attention_mask=attention_mask)\n",
        "\n",
        "            preds = torch.argmax(outputs, dim=1)    # Get index of predicted class\n",
        "            predictions.extend(preds.cpu().tolist())\n",
        "            actual_labels.extend(labels.cpu().tolist())\n",
        "\n",
        "    return accuracy_score(actual_labels, predictions), classification_report(actual_labels, predictions, zero_division=0)\n",
        "\n",
        "\n",
        "# Function that predicts a program (i.e inputs a given program into the model), also returns confidence level\n",
        "def predict_program(program, model, tokenizer, device, max_length=128):\n",
        "    model.eval()    # Enable evaluation mode\n",
        "\n",
        "    encoding = tokenizer(program, return_tensors='pt', max_length=max_length, padding='max_length', truncation=True)    # Tokenize\n",
        "    input_ids = encoding['input_ids'].to(device)\n",
        "    attention_mask = encoding['attention_mask'].to(device)\n",
        "\n",
        "    with torch.no_grad():   # Disable gradient calculation\n",
        "        logits = model(input_ids=input_ids, attention_mask=attention_mask)\n",
        "\n",
        "        # Get predicted class\n",
        "        preds = torch.argmax(logits, dim=1)\n",
        "        predicted_program = num2label[preds.item()]\n",
        "\n",
        "        # Calculate confidence\n",
        "        outputs = torch.softmax(logits, dim = 1)\n",
        "        confidence = torch.max(outputs, dim=1)[0].item()*100\n",
        "        \n",
        "    return predicted_program, confidence\n",
        "\n",
        "# Function to check and correct spelling\n",
        "def correct_spelling(text):\n",
        "\n",
        "    # Initialize the spell checker with the custom dictionary\n",
        "    spellcheck = SpellChecker()\n",
        "    spellcheck.word_frequency.load_text_file('corpus.txt')\n",
        "\n",
        "    corrected_text = []\n",
        "    \n",
        "    for word in text.split():\n",
        "        if word in spellcheck:\n",
        "            corrected_text.append(word)\n",
        "        else:\n",
        "            corrected_text.append(spellcheck.correction(word))\n",
        "\n",
        "    # Fix NoneType errors\n",
        "    for index, word in enumerate(corrected_text):\n",
        "        if word is None:\n",
        "            corrected_text[index] = text.split()[index]\n",
        "\n",
        "    return ' '.join(corrected_text)"
      ]
    },
    {
      "cell_type": "markdown",
      "metadata": {},
      "source": [
        "# Set up the model"
      ]
    },
    {
      "cell_type": "code",
      "execution_count": 32,
      "metadata": {
        "id": "dLBPL84VeUl8"
      },
      "outputs": [],
      "source": [
        "# Hyperparameters\n",
        "bert_model_name = 'bert-base-uncased'\n",
        "num_classes = len(label2num)\n",
        "max_length = 128\n",
        "batch_size = 16\n",
        "num_epochs = 6\n",
        "learning_rate = 2e-5"
      ]
    },
    {
      "cell_type": "code",
      "execution_count": 33,
      "metadata": {
        "id": "sBFu5EA5eYdJ"
      },
      "outputs": [],
      "source": [
        "# Tokenizer\n",
        "tokenizer = BertTokenizer.from_pretrained(bert_model_name)"
      ]
    },
    {
      "cell_type": "code",
      "execution_count": 34,
      "metadata": {
        "id": "wg6D_FyUfKRj"
      },
      "outputs": [],
      "source": [
        "# Split data into training and test sets\n",
        "X_train, X_test, y_train, y_test = train_test_split(programs, labels, test_size=0.2, random_state=42)\n",
        "\n",
        "train_dataset = ProgramClassificationDataset(X_train, y_train, tokenizer, max_length)\n",
        "test_dataset = ProgramClassificationDataset(X_test, y_test, tokenizer, max_length)\n",
        "\n",
        "train_dataloader = DataLoader(train_dataset, batch_size=batch_size, shuffle=True)\n",
        "test_dataloader = DataLoader(test_dataset, batch_size=batch_size)"
      ]
    },
    {
      "cell_type": "code",
      "execution_count": 35,
      "metadata": {
        "id": "kPRH4FsKexrx"
      },
      "outputs": [],
      "source": [
        "# Instantiate model\n",
        "device = torch.device(\"cuda\" if torch.cuda.is_available() else \"cpu\")\n",
        "model = BERTClassifier(bert_model_name, num_classes).to(device)"
      ]
    },
    {
      "cell_type": "code",
      "execution_count": 36,
      "metadata": {
        "colab": {
          "base_uri": "https://localhost:8080/"
        },
        "id": "3__-BqEGe4p2",
        "outputId": "342f17b4-584e-4150-d85e-3a14a3e46bb6"
      },
      "outputs": [],
      "source": [
        "# Optimizer and Scheduler\n",
        "optimizer = torch.optim.AdamW(model.parameters(), lr=learning_rate)\n",
        "total_steps = len(train_dataloader) * num_epochs\n",
        "scheduler = get_linear_schedule_with_warmup(optimizer, num_warmup_steps=0, num_training_steps=total_steps)"
      ]
    },
    {
      "cell_type": "markdown",
      "metadata": {},
      "source": [
        "# Training"
      ]
    },
    {
      "cell_type": "code",
      "execution_count": 37,
      "metadata": {
        "colab": {
          "base_uri": "https://localhost:8080/"
        },
        "id": "ufEVrsZXhxnb",
        "outputId": "0a76db10-d024-4cf5-9ddd-abf30c070e1f"
      },
      "outputs": [
        {
          "name": "stdout",
          "output_type": "stream",
          "text": [
            "Epoch 1/6\n"
          ]
        },
        {
          "ename": "KeyboardInterrupt",
          "evalue": "",
          "output_type": "error",
          "traceback": [
            "\u001b[1;31m---------------------------------------------------------------------------\u001b[0m",
            "\u001b[1;31mKeyboardInterrupt\u001b[0m                         Traceback (most recent call last)",
            "Cell \u001b[1;32mIn[37], line 5\u001b[0m\n\u001b[0;32m      2\u001b[0m \u001b[38;5;28;01mfor\u001b[39;00m epoch \u001b[38;5;129;01min\u001b[39;00m \u001b[38;5;28mrange\u001b[39m(num_epochs):\n\u001b[0;32m      3\u001b[0m     \u001b[38;5;28mprint\u001b[39m(\u001b[38;5;124mf\u001b[39m\u001b[38;5;124m\"\u001b[39m\u001b[38;5;124mEpoch \u001b[39m\u001b[38;5;132;01m{\u001b[39;00mepoch\u001b[38;5;250m \u001b[39m\u001b[38;5;241m+\u001b[39m\u001b[38;5;250m \u001b[39m\u001b[38;5;241m1\u001b[39m\u001b[38;5;132;01m}\u001b[39;00m\u001b[38;5;124m/\u001b[39m\u001b[38;5;132;01m{\u001b[39;00mnum_epochs\u001b[38;5;132;01m}\u001b[39;00m\u001b[38;5;124m\"\u001b[39m)\n\u001b[1;32m----> 5\u001b[0m     \u001b[43mtrain\u001b[49m\u001b[43m(\u001b[49m\u001b[43mmodel\u001b[49m\u001b[43m,\u001b[49m\u001b[43m \u001b[49m\u001b[43mtrain_dataloader\u001b[49m\u001b[43m,\u001b[49m\u001b[43m \u001b[49m\u001b[43moptimizer\u001b[49m\u001b[43m,\u001b[49m\u001b[43m \u001b[49m\u001b[43mscheduler\u001b[49m\u001b[43m,\u001b[49m\u001b[43m \u001b[49m\u001b[43mdevice\u001b[49m\u001b[43m)\u001b[49m\n\u001b[0;32m      6\u001b[0m     accuracy, report \u001b[38;5;241m=\u001b[39m evaluate(model, test_dataloader, device)\n\u001b[0;32m      8\u001b[0m     \u001b[38;5;28mprint\u001b[39m(\u001b[38;5;124mf\u001b[39m\u001b[38;5;124m\"\u001b[39m\u001b[38;5;124mAccuracy: \u001b[39m\u001b[38;5;132;01m{\u001b[39;00maccuracy\u001b[38;5;132;01m:\u001b[39;00m\u001b[38;5;124m.4f\u001b[39m\u001b[38;5;132;01m}\u001b[39;00m\u001b[38;5;124m\"\u001b[39m)\n",
            "Cell \u001b[1;32mIn[31], line 28\u001b[0m, in \u001b[0;36mtrain\u001b[1;34m(model, data_loader, optimizer, scheduler, device)\u001b[0m\n\u001b[0;32m     25\u001b[0m attention_mask \u001b[38;5;241m=\u001b[39m batch[\u001b[38;5;124m'\u001b[39m\u001b[38;5;124mattention_mask\u001b[39m\u001b[38;5;124m'\u001b[39m]\u001b[38;5;241m.\u001b[39mto(device)\n\u001b[0;32m     26\u001b[0m labels \u001b[38;5;241m=\u001b[39m batch[\u001b[38;5;124m'\u001b[39m\u001b[38;5;124mlabel\u001b[39m\u001b[38;5;124m'\u001b[39m]\u001b[38;5;241m.\u001b[39mto(device)\n\u001b[1;32m---> 28\u001b[0m outputs \u001b[38;5;241m=\u001b[39m \u001b[43mmodel\u001b[49m\u001b[43m(\u001b[49m\u001b[43minput_ids\u001b[49m\u001b[38;5;241;43m=\u001b[39;49m\u001b[43minput_ids\u001b[49m\u001b[43m,\u001b[49m\u001b[43m \u001b[49m\u001b[43mattention_mask\u001b[49m\u001b[38;5;241;43m=\u001b[39;49m\u001b[43mattention_mask\u001b[49m\u001b[43m)\u001b[49m\n\u001b[0;32m     30\u001b[0m loss \u001b[38;5;241m=\u001b[39m nn\u001b[38;5;241m.\u001b[39mCrossEntropyLoss()(outputs, labels)\n\u001b[0;32m     31\u001b[0m loss\u001b[38;5;241m.\u001b[39mbackward()     \u001b[38;5;66;03m# Backpropagation\u001b[39;00m\n",
            "File \u001b[1;32mc:\\Users\\Chi\\AppData\\Local\\Programs\\Python\\Python310\\lib\\site-packages\\torch\\nn\\modules\\module.py:1518\u001b[0m, in \u001b[0;36mModule._wrapped_call_impl\u001b[1;34m(self, *args, **kwargs)\u001b[0m\n\u001b[0;32m   1516\u001b[0m     \u001b[38;5;28;01mreturn\u001b[39;00m \u001b[38;5;28mself\u001b[39m\u001b[38;5;241m.\u001b[39m_compiled_call_impl(\u001b[38;5;241m*\u001b[39margs, \u001b[38;5;241m*\u001b[39m\u001b[38;5;241m*\u001b[39mkwargs)  \u001b[38;5;66;03m# type: ignore[misc]\u001b[39;00m\n\u001b[0;32m   1517\u001b[0m \u001b[38;5;28;01melse\u001b[39;00m:\n\u001b[1;32m-> 1518\u001b[0m     \u001b[38;5;28;01mreturn\u001b[39;00m \u001b[38;5;28mself\u001b[39m\u001b[38;5;241m.\u001b[39m_call_impl(\u001b[38;5;241m*\u001b[39margs, \u001b[38;5;241m*\u001b[39m\u001b[38;5;241m*\u001b[39mkwargs)\n",
            "File \u001b[1;32mc:\\Users\\Chi\\AppData\\Local\\Programs\\Python\\Python310\\lib\\site-packages\\torch\\nn\\modules\\module.py:1527\u001b[0m, in \u001b[0;36mModule._call_impl\u001b[1;34m(self, *args, **kwargs)\u001b[0m\n\u001b[0;32m   1522\u001b[0m \u001b[38;5;66;03m# If we don't have any hooks, we want to skip the rest of the logic in\u001b[39;00m\n\u001b[0;32m   1523\u001b[0m \u001b[38;5;66;03m# this function, and just call forward.\u001b[39;00m\n\u001b[0;32m   1524\u001b[0m \u001b[38;5;28;01mif\u001b[39;00m \u001b[38;5;129;01mnot\u001b[39;00m (\u001b[38;5;28mself\u001b[39m\u001b[38;5;241m.\u001b[39m_backward_hooks \u001b[38;5;129;01mor\u001b[39;00m \u001b[38;5;28mself\u001b[39m\u001b[38;5;241m.\u001b[39m_backward_pre_hooks \u001b[38;5;129;01mor\u001b[39;00m \u001b[38;5;28mself\u001b[39m\u001b[38;5;241m.\u001b[39m_forward_hooks \u001b[38;5;129;01mor\u001b[39;00m \u001b[38;5;28mself\u001b[39m\u001b[38;5;241m.\u001b[39m_forward_pre_hooks\n\u001b[0;32m   1525\u001b[0m         \u001b[38;5;129;01mor\u001b[39;00m _global_backward_pre_hooks \u001b[38;5;129;01mor\u001b[39;00m _global_backward_hooks\n\u001b[0;32m   1526\u001b[0m         \u001b[38;5;129;01mor\u001b[39;00m _global_forward_hooks \u001b[38;5;129;01mor\u001b[39;00m _global_forward_pre_hooks):\n\u001b[1;32m-> 1527\u001b[0m     \u001b[38;5;28;01mreturn\u001b[39;00m forward_call(\u001b[38;5;241m*\u001b[39margs, \u001b[38;5;241m*\u001b[39m\u001b[38;5;241m*\u001b[39mkwargs)\n\u001b[0;32m   1529\u001b[0m \u001b[38;5;28;01mtry\u001b[39;00m:\n\u001b[0;32m   1530\u001b[0m     result \u001b[38;5;241m=\u001b[39m \u001b[38;5;28;01mNone\u001b[39;00m\n",
            "Cell \u001b[1;32mIn[31], line 13\u001b[0m, in \u001b[0;36mBERTClassifier.forward\u001b[1;34m(self, input_ids, attention_mask)\u001b[0m\n\u001b[0;32m     11\u001b[0m pooled_output \u001b[38;5;241m=\u001b[39m bert_outputs\u001b[38;5;241m.\u001b[39mpooler_output  \u001b[38;5;66;03m# Get hidden state (value) of the [CLS] token\u001b[39;00m\n\u001b[0;32m     12\u001b[0m x \u001b[38;5;241m=\u001b[39m \u001b[38;5;28mself\u001b[39m\u001b[38;5;241m.\u001b[39mdropout(pooled_output)\n\u001b[1;32m---> 13\u001b[0m logits \u001b[38;5;241m=\u001b[39m \u001b[38;5;28;43mself\u001b[39;49m\u001b[38;5;241;43m.\u001b[39;49m\u001b[43mfc\u001b[49m\u001b[43m(\u001b[49m\u001b[43mx\u001b[49m\u001b[43m)\u001b[49m\n\u001b[0;32m     14\u001b[0m \u001b[38;5;28;01mreturn\u001b[39;00m logits\n",
            "File \u001b[1;32mc:\\Users\\Chi\\AppData\\Local\\Programs\\Python\\Python310\\lib\\site-packages\\torch\\nn\\modules\\module.py:1518\u001b[0m, in \u001b[0;36mModule._wrapped_call_impl\u001b[1;34m(self, *args, **kwargs)\u001b[0m\n\u001b[0;32m   1516\u001b[0m     \u001b[38;5;28;01mreturn\u001b[39;00m \u001b[38;5;28mself\u001b[39m\u001b[38;5;241m.\u001b[39m_compiled_call_impl(\u001b[38;5;241m*\u001b[39margs, \u001b[38;5;241m*\u001b[39m\u001b[38;5;241m*\u001b[39mkwargs)  \u001b[38;5;66;03m# type: ignore[misc]\u001b[39;00m\n\u001b[0;32m   1517\u001b[0m \u001b[38;5;28;01melse\u001b[39;00m:\n\u001b[1;32m-> 1518\u001b[0m     \u001b[38;5;28;01mreturn\u001b[39;00m \u001b[38;5;28mself\u001b[39m\u001b[38;5;241m.\u001b[39m_call_impl(\u001b[38;5;241m*\u001b[39margs, \u001b[38;5;241m*\u001b[39m\u001b[38;5;241m*\u001b[39mkwargs)\n",
            "File \u001b[1;32mc:\\Users\\Chi\\AppData\\Local\\Programs\\Python\\Python310\\lib\\site-packages\\torch\\nn\\modules\\module.py:1527\u001b[0m, in \u001b[0;36mModule._call_impl\u001b[1;34m(self, *args, **kwargs)\u001b[0m\n\u001b[0;32m   1522\u001b[0m \u001b[38;5;66;03m# If we don't have any hooks, we want to skip the rest of the logic in\u001b[39;00m\n\u001b[0;32m   1523\u001b[0m \u001b[38;5;66;03m# this function, and just call forward.\u001b[39;00m\n\u001b[0;32m   1524\u001b[0m \u001b[38;5;28;01mif\u001b[39;00m \u001b[38;5;129;01mnot\u001b[39;00m (\u001b[38;5;28mself\u001b[39m\u001b[38;5;241m.\u001b[39m_backward_hooks \u001b[38;5;129;01mor\u001b[39;00m \u001b[38;5;28mself\u001b[39m\u001b[38;5;241m.\u001b[39m_backward_pre_hooks \u001b[38;5;129;01mor\u001b[39;00m \u001b[38;5;28mself\u001b[39m\u001b[38;5;241m.\u001b[39m_forward_hooks \u001b[38;5;129;01mor\u001b[39;00m \u001b[38;5;28mself\u001b[39m\u001b[38;5;241m.\u001b[39m_forward_pre_hooks\n\u001b[0;32m   1525\u001b[0m         \u001b[38;5;129;01mor\u001b[39;00m _global_backward_pre_hooks \u001b[38;5;129;01mor\u001b[39;00m _global_backward_hooks\n\u001b[0;32m   1526\u001b[0m         \u001b[38;5;129;01mor\u001b[39;00m _global_forward_hooks \u001b[38;5;129;01mor\u001b[39;00m _global_forward_pre_hooks):\n\u001b[1;32m-> 1527\u001b[0m     \u001b[38;5;28;01mreturn\u001b[39;00m forward_call(\u001b[38;5;241m*\u001b[39margs, \u001b[38;5;241m*\u001b[39m\u001b[38;5;241m*\u001b[39mkwargs)\n\u001b[0;32m   1529\u001b[0m \u001b[38;5;28;01mtry\u001b[39;00m:\n\u001b[0;32m   1530\u001b[0m     result \u001b[38;5;241m=\u001b[39m \u001b[38;5;28;01mNone\u001b[39;00m\n",
            "File \u001b[1;32mc:\\Users\\Chi\\AppData\\Local\\Programs\\Python\\Python310\\lib\\site-packages\\torch\\nn\\modules\\linear.py:114\u001b[0m, in \u001b[0;36mLinear.forward\u001b[1;34m(self, input)\u001b[0m\n\u001b[0;32m    113\u001b[0m \u001b[38;5;28;01mdef\u001b[39;00m \u001b[38;5;21mforward\u001b[39m(\u001b[38;5;28mself\u001b[39m, \u001b[38;5;28minput\u001b[39m: Tensor) \u001b[38;5;241m-\u001b[39m\u001b[38;5;241m>\u001b[39m Tensor:\n\u001b[1;32m--> 114\u001b[0m     \u001b[38;5;28;01mreturn\u001b[39;00m \u001b[43mF\u001b[49m\u001b[38;5;241;43m.\u001b[39;49m\u001b[43mlinear\u001b[49m\u001b[43m(\u001b[49m\u001b[38;5;28;43minput\u001b[39;49m\u001b[43m,\u001b[49m\u001b[43m \u001b[49m\u001b[38;5;28;43mself\u001b[39;49m\u001b[38;5;241;43m.\u001b[39;49m\u001b[43mweight\u001b[49m\u001b[43m,\u001b[49m\u001b[43m \u001b[49m\u001b[38;5;28;43mself\u001b[39;49m\u001b[38;5;241;43m.\u001b[39;49m\u001b[43mbias\u001b[49m\u001b[43m)\u001b[49m\n",
            "\u001b[1;31mKeyboardInterrupt\u001b[0m: "
          ]
        }
      ],
      "source": [
        "# Train model\n",
        "for epoch in range(num_epochs):\n",
        "    print(f\"Epoch {epoch + 1}/{num_epochs}\")\n",
        "\n",
        "    train(model, train_dataloader, optimizer, scheduler, device)\n",
        "    accuracy, report = evaluate(model, test_dataloader, device)\n",
        "\n",
        "    print(f\"Accuracy: {accuracy:.4f}\")\n",
        "    print(report)"
      ]
    },
    {
      "cell_type": "code",
      "execution_count": 55,
      "metadata": {
        "id": "UaG-WeCWkgio"
      },
      "outputs": [],
      "source": [
        "# Save model\n",
        "torch.save(model.state_dict(), \"bert_program_classifier.pth\")"
      ]
    },
    {
      "cell_type": "code",
      "execution_count": 56,
      "metadata": {},
      "outputs": [
        {
          "data": {
            "text/plain": [
              "<All keys matched successfully>"
            ]
          },
          "execution_count": 56,
          "metadata": {},
          "output_type": "execute_result"
        }
      ],
      "source": [
        "# Load weights\n",
        "model.load_state_dict(torch.load(\"bert_program_classifier.pth\"), True)"
      ]
    },
    {
      "cell_type": "markdown",
      "metadata": {},
      "source": [
        "# Test Model"
      ]
    },
    {
      "cell_type": "code",
      "execution_count": 57,
      "metadata": {
        "id": "JDCjTQqIklIa"
      },
      "outputs": [
        {
          "name": "stdout",
          "output_type": "stream",
          "text": [
            "Input program: Integrated Biomedical Engineering & Health Sciences\n",
            "Predicted category: biomedical engineering\n",
            "Confidence: 59.97128486633301\n"
          ]
        }
      ],
      "source": [
        "# Test prediction\n",
        "test_text = \"Integrated Biomedical Engineering & Health Sciences\"\n",
        "corrected_text = correct_spelling(test_text)\n",
        "predicted_label = predict_program(corrected_text, model, tokenizer, device)\n",
        "print(f\"Input program: {test_text}\")\n",
        "print(f\"Predicted category: {predicted_label[0]}\")\n",
        "print(f\"Confidence: {predicted_label[1]}\")"
      ]
    },
    {
      "cell_type": "code",
      "execution_count": 58,
      "metadata": {
        "id": "D2VkK40jk2e3"
      },
      "outputs": [
        {
          "name": "stdout",
          "output_type": "stream",
          "text": [
            "Input program: computer science\n",
            "Predicted category: computer science\n",
            "Confidence: 97.4845826625824\n"
          ]
        }
      ],
      "source": [
        "# Test prediction\n",
        "test_text = \"computer science\"\n",
        "corrected_text = correct_spelling(test_text)\n",
        "predicted_label = predict_program(corrected_text, model, tokenizer, device)\n",
        "print(f\"Input program: {test_text}\")\n",
        "print(f\"Predicted category: {predicted_label[0]}\")\n",
        "print(f\"Confidence: {predicted_label[1]}\")"
      ]
    },
    {
      "cell_type": "code",
      "execution_count": 59,
      "metadata": {
        "id": "sz7F07-8lGor"
      },
      "outputs": [
        {
          "name": "stdout",
          "output_type": "stream",
          "text": [
            "Input program: computer engineering\n",
            "Predicted category: computer engineering\n",
            "Confidence: 85.03769636154175\n"
          ]
        }
      ],
      "source": [
        "# Test prediction\n",
        "test_text = \"computer engineering\"\n",
        "corrected_text = correct_spelling(test_text)\n",
        "predicted_label = predict_program(corrected_text, model, tokenizer, device)\n",
        "print(f\"Input program: {test_text}\")\n",
        "print(f\"Predicted category: {predicted_label[0]}\")\n",
        "print(f\"Confidence: {predicted_label[1]}\")"
      ]
    },
    {
      "cell_type": "code",
      "execution_count": 60,
      "metadata": {
        "id": "OSLlArSqlIOi"
      },
      "outputs": [
        {
          "name": "stdout",
          "output_type": "stream",
          "text": [
            "Input program: computer eng\n",
            "Predicted category: computer engineering\n",
            "Confidence: 83.2944393157959\n"
          ]
        }
      ],
      "source": [
        "# Test prediction\n",
        "test_text = \"computer eng\"\n",
        "corrected_text = correct_spelling(test_text)\n",
        "predicted_label = predict_program(corrected_text, model, tokenizer, device)\n",
        "print(f\"Input program: {test_text}\")\n",
        "print(f\"Predicted category: {predicted_label[0]}\")\n",
        "print(f\"Confidence: {predicted_label[1]}\")"
      ]
    },
    {
      "cell_type": "code",
      "execution_count": 61,
      "metadata": {
        "id": "k8Kz60x_lENB"
      },
      "outputs": [
        {
          "name": "stdout",
          "output_type": "stream",
          "text": [
            "Input program: comp sci\n",
            "Predicted category: computer science\n",
            "Confidence: 96.26309871673584\n"
          ]
        }
      ],
      "source": [
        "# Test prediction\n",
        "test_text = \"comp sci\"\n",
        "corrected_text = correct_spelling(test_text)\n",
        "predicted_label = predict_program(corrected_text, model, tokenizer, device)\n",
        "print(f\"Input program: {test_text}\")\n",
        "print(f\"Predicted category: {predicted_label[0]}\")\n",
        "print(f\"Confidence: {predicted_label[1]}\")"
      ]
    }
  ],
  "metadata": {
    "accelerator": "GPU",
    "colab": {
      "gpuType": "T4",
      "provenance": []
    },
    "kernelspec": {
      "display_name": "Python 3",
      "name": "python3"
    },
    "language_info": {
      "codemirror_mode": {
        "name": "ipython",
        "version": 3
      },
      "file_extension": ".py",
      "mimetype": "text/x-python",
      "name": "python",
      "nbconvert_exporter": "python",
      "pygments_lexer": "ipython3",
      "version": "3.10.7"
    }
  },
  "nbformat": 4,
  "nbformat_minor": 0
}
